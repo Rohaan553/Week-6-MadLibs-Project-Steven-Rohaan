{
 "cells": [
  {
   "cell_type": "markdown",
   "metadata": {},
   "source": [
    "## MadLibs Project By Steven Yang & Rohaan Wasim\n",
    "The MadLibs Program is an open-source project created by Steven Yang and Rohaan Wasim. that accepts a name, 2 nouns, 2 verbs, 2 adjectives and 1 adverb, and it returns a sentence with the inputs placed in predetermined spots in a partially filled sentence."
   ]
  },
  {
   "cell_type": "markdown",
   "metadata": {},
   "source": [
    "## Sample Execution Of The MadLibs Program:"
   ]
  },
  {
   "cell_type": "code",
   "execution_count": 2,
   "metadata": {},
   "outputs": [
    {
     "name": "stdin",
     "output_type": "stream",
     "text": [
      "Welcome to the madlib\n",
      "\n",
      "Please enter your name Felix\n",
      "What is your first noun cat\n",
      "What is your second noun moon\n",
      "What is your first verb park\n",
      "What is your second verb search\n",
      "What is your first adj smooth\n",
      "What is your second adj crazy\n",
      "What is your first adverb quietly\n"
     ]
    },
    {
     "name": "stdout",
     "output_type": "stream",
     "text": [
      "Hello Felix We are the smooth cat You will be quietly park .Do not resist. We are crazy people. This moon will search your future.\n"
     ]
    }
   ],
   "source": [
    "# Madlibs Code\n",
    "# Input statements that ask and store various parts of speech\n",
    "name=input(\"Welcome to Madlibs\\n\\nPlease enter your name\")\n",
    "noun1=input(\"What is your first noun\")\n",
    "noun2=input(\"What is your second noun\")\n",
    "verb1=input(\"What is your first verb\")\n",
    "verb2=input(\"What is your second verb\")\n",
    "adj1=input(\"What is your first adj\")\n",
    "adj2=input(\"What is your second adj\")\n",
    "adverb1=input(\"What is your first adverb\")\n",
    "\n",
    "#Prints a sentence with the aforementioned inputs placed in multiple parts of a sentence\n",
    "print(\"Hello\",name,\"We are the\",adj1,noun1,\"You will be\",adverb1,verb1,\".Do not resist. We are\",adj2,\"people. This\",noun2,\"will\",verb2,\"your future.\")"
   ]
  },
  {
   "cell_type": "markdown",
   "metadata": {},
   "source": [
    "## Installation\n",
    "__If you are installing MadLibs in JupyterHub, follow these steps:__\n",
    "1. Enter the command: \"git clone {Enter URL of MadLib repository without curly brackets}\" without quotes in your shell in order to clone a version of MadLibs to your desired directory.\n",
    "2. Use the command \"ls\" (without quotes) in the directory in which you cloned the repository in order to ensure that the repository and the contained files were succesfully installed. \n",
    "\n",
    "__If you are installing MadLibs on your Local Machine, follow the instructions in this article__: https://www.codecademy.com/articles/how-to-use-jupyter-notebooks"
   ]
  },
  {
   "cell_type": "markdown",
   "metadata": {},
   "source": [
    "## How To Use MadLibs\n",
    "1. Run the \"MadLibs.ipynb\" file and the MadLibs program will start with an input box asking for the user's name.\n",
    "2. Enter the appropriate parts of speech for each input prompt.\n",
    "3. MadLibs will return a sentence with your inputs placed in various places in order to (hopefully) produce a hilarious sentence."
   ]
  },
  {
   "cell_type": "markdown",
   "metadata": {},
   "source": [
    "## Usage\n",
    "MadLibs is only to be used for personal use. All data entered by users will be deleted at the end of program execution and will not be stored permanently."
   ]
  },
  {
   "cell_type": "markdown",
   "metadata": {},
   "source": [
    "# How To Contribute\n",
    "If you want to contribute to this project, please submit a pull request with a description of your changes/additions. If you do not know how to make a pull request in git, consult the following resource for guidance: https://git-scm.com/docs/git-commit A project creator will evaluate and accept or deny your pull request within 3-5 business days."
   ]
  },
  {
   "cell_type": "markdown",
   "metadata": {},
   "source": [
    "# License\n",
    "This project employs the MIT License. For more information on the licensing terms and conditions, please consult the Licenses.md"
   ]
  },
  {
   "cell_type": "markdown",
   "metadata": {},
   "source": [
    "# Code Of Conduct\n",
    "Our code of conduct is very simple: be polite, avoid profanity, and contribute to our project if you so desire. For more information, please consult the CodeOfConduct.md "
   ]
  },
  {
   "cell_type": "markdown",
   "metadata": {},
   "source": [
    "## Miscellaneous\n",
    "For more information on why we chose the MIT License and Code Of Conduct, please consult the Miscellaneous.md"
   ]
  }
 ],
 "metadata": {
  "kernelspec": {
   "display_name": "Python 3",
   "language": "python",
   "name": "python3"
  },
  "language_info": {
   "codemirror_mode": {
    "name": "ipython",
    "version": 3
   },
   "file_extension": ".py",
   "mimetype": "text/x-python",
   "name": "python",
   "nbconvert_exporter": "python",
   "pygments_lexer": "ipython3",
   "version": "3.8.3"
  }
 },
 "nbformat": 4,
 "nbformat_minor": 4
}
