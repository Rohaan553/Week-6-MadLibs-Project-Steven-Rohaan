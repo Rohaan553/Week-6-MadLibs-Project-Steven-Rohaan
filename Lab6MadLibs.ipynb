{
 "cells": [
  {
   "cell_type": "code",
   "execution_count": 2,
   "metadata": {},
   "outputs": [
    {
     "name": "stdin",
     "output_type": "stream",
     "text": [
      "Welcome to the madlib\n",
      "\n",
      "Please enter your name jeff\n",
      "What is your first noun jeff\n",
      "What is your second noun jeff\n",
      "What is your first verb jeff\n",
      "What is your second verb jeff\n",
      "What is your first adj jeff\n",
      "What is your second adj jeff\n",
      "What is your first adverb jeff\n"
     ]
    },
    {
     "name": "stdout",
     "output_type": "stream",
     "text": [
      "Hello jeff We are the jeff jeff You will be jeff jeff .Do not resist. We are jeff people. This jeff will jeff your future.\n"
     ]
    }
   ],
   "source": [
    "name=input(\"Welcome to the madlib\\n\\nPlease enter your name\")\n",
    "noun1=input(\"What is your first noun\")\n",
    "noun2=input(\"What is your second noun\")\n",
    "verb1=input(\"What is your first verb\")\n",
    "verb2=input(\"What is your second verb\")\n",
    "adj1=input(\"What is your first adj\")\n",
    "adj2=input(\"What is your second adj\")\n",
    "adverb1=input(\"What is your first adverb\")\n",
    "print(\"Hello\",name,\"We are the\",adj1,noun1,\"You will be\",adverb1,verb1,\".Do not resist. We are\",adj2,\"people. This\",noun2,\"will\",verb2,\"your future.\")"
   ]
  },
  {
   "cell_type": "code",
   "execution_count": null,
   "metadata": {},
   "outputs": [],
   "source": []
  }
 ],
 "metadata": {
  "kernelspec": {
   "display_name": "Python 3",
   "language": "python",
   "name": "python3"
  },
  "language_info": {
   "codemirror_mode": {
    "name": "ipython",
    "version": 3
   },
   "file_extension": ".py",
   "mimetype": "text/x-python",
   "name": "python",
   "nbconvert_exporter": "python",
   "pygments_lexer": "ipython3",
   "version": "3.8.3"
  }
 },
 "nbformat": 4,
 "nbformat_minor": 4
}
