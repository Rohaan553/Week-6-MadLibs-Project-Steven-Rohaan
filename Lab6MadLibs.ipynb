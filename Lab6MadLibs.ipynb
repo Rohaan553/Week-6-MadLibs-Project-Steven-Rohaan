{
 "cells": [
  {
   "cell_type": "code",
   "execution_count": 1,
   "metadata": {},
   "outputs": [
    {
     "name": "stdin",
     "output_type": "stream",
     "text": [
      "Welcome to the madlib\n",
      "\n",
      "Please enter your name jeff\n",
      "What is your first noun jeff\n",
      "What is your second noun jeff\n",
      "What is your first verb jeff\n",
      "What is your second verb jeff\n",
      "What is your first adj jeff\n",
      "What is your second adj jeff\n",
      "What is your first adverb jeff\n"
     ]
    },
    {
     "ename": "NameError",
     "evalue": "name 'adverb1' is not defined",
     "output_type": "error",
     "traceback": [
      "\u001b[0;31m---------------------------------------------------------------------------\u001b[0m",
      "\u001b[0;31mNameError\u001b[0m                                 Traceback (most recent call last)",
      "\u001b[0;32m<ipython-input-1-220274612ea1>\u001b[0m in \u001b[0;36m<module>\u001b[0;34m\u001b[0m\n\u001b[1;32m      7\u001b[0m \u001b[0madj2\u001b[0m\u001b[0;34m=\u001b[0m\u001b[0minput\u001b[0m\u001b[0;34m(\u001b[0m\u001b[0;34m\"What is your second adj\"\u001b[0m\u001b[0;34m)\u001b[0m\u001b[0;34m\u001b[0m\u001b[0;34m\u001b[0m\u001b[0m\n\u001b[1;32m      8\u001b[0m \u001b[0madverb\u001b[0m\u001b[0;34m=\u001b[0m\u001b[0minput\u001b[0m\u001b[0;34m(\u001b[0m\u001b[0;34m\"What is your first adverb\"\u001b[0m\u001b[0;34m)\u001b[0m\u001b[0;34m\u001b[0m\u001b[0;34m\u001b[0m\u001b[0m\n\u001b[0;32m----> 9\u001b[0;31m \u001b[0mprint\u001b[0m\u001b[0;34m(\u001b[0m\u001b[0;34m\"Hello\"\u001b[0m\u001b[0;34m,\u001b[0m\u001b[0mname\u001b[0m\u001b[0;34m,\u001b[0m\u001b[0;34m\"We are the\"\u001b[0m\u001b[0;34m,\u001b[0m\u001b[0madj1\u001b[0m\u001b[0;34m,\u001b[0m\u001b[0mnoun1\u001b[0m\u001b[0;34m,\u001b[0m\u001b[0;34m\"You will be\"\u001b[0m\u001b[0;34m,\u001b[0m\u001b[0madverb1\u001b[0m\u001b[0;34m,\u001b[0m\u001b[0mverb1\u001b[0m\u001b[0;34m,\u001b[0m\u001b[0;34m\".Do not resist. We are\"\u001b[0m\u001b[0;34m,\u001b[0m\u001b[0madj2\u001b[0m\u001b[0;34m,\u001b[0m\u001b[0;34m\"people. This\"\u001b[0m\u001b[0;34m,\u001b[0m\u001b[0mnoun2\u001b[0m\u001b[0;34m,\u001b[0m\u001b[0;34m\"will\"\u001b[0m\u001b[0;34m,\u001b[0m\u001b[0mverb2\u001b[0m\u001b[0;34m,\u001b[0m\u001b[0;34m\"your future.\"\u001b[0m\u001b[0;34m)\u001b[0m\u001b[0;34m\u001b[0m\u001b[0;34m\u001b[0m\u001b[0m\n\u001b[0m",
      "\u001b[0;31mNameError\u001b[0m: name 'adverb1' is not defined"
     ]
    }
   ],
   "source": [
    "name=input(\"Welcome to the madlib\\n\\nPlease enter your name\")\n",
    "noun1=input(\"What is your first noun\")\n",
    "noun2=input(\"What is your second noun\")\n",
    "verb1=input(\"What is your first verb\")\n",
    "verb2=input(\"What is your second verb\")\n",
    "adj1=input(\"What is your first adj\")\n",
    "adj2=input(\"What is your second adj\")\n",
    "adverb1=input(\"What is your first adverb\")\n",
    "print(\"Hello\",name,\"We are the\",adj1,noun1,\"You will be\",adverb1,verb1,\".Do not resist. We are\",adj2,\"people. This\",noun2,\"will\",verb2,\"your future.\")"
   ]
  },
  {
   "cell_type": "code",
   "execution_count": null,
   "metadata": {},
   "outputs": [],
   "source": []
  }
 ],
 "metadata": {
  "kernelspec": {
   "display_name": "Python 3",
   "language": "python",
   "name": "python3"
  },
  "language_info": {
   "codemirror_mode": {
    "name": "ipython",
    "version": 3
   },
   "file_extension": ".py",
   "mimetype": "text/x-python",
   "name": "python",
   "nbconvert_exporter": "python",
   "pygments_lexer": "ipython3",
   "version": "3.8.3"
  }
 },
 "nbformat": 4,
 "nbformat_minor": 4
}
