{
 "cells": [
  {
   "cell_type": "code",
   "execution_count": null,
   "metadata": {},
   "outputs": [],
   "source": [
    "# Madlibs Code\n",
    "# Input statements that ask and store various parts of speech\n",
    "name=input(\"Welcome to the madlib\\n\\nPlease enter your name\")\n",
    "noun1=input(\"What is your first noun\")\n",
    "noun2=input(\"What is your second noun\")\n",
    "verb1=input(\"What is your first verb\")\n",
    "verb2=input(\"What is your second verb\")\n",
    "adj1=input(\"What is your first adj\")\n",
    "adj2=input(\"What is your second adj\")\n",
    "adverb1=input(\"What is your first adverb\")\n",
    "\n",
    "#Prints a sentence with the aforementioned inputs placed in multiple parts of a sentence\n",
    "print(\"Hello\",name,\"We are the\",adj1,noun1,\"You will be\",adverb1,verb1,\".Do not resist. We are\",adj2,\"people. This\",noun2,\"will\",verb2,\"your future.\")"
   ]
  },
  {
   "cell_type": "code",
   "execution_count": null,
   "metadata": {},
   "outputs": [],
   "source": []
  }
 ],
 "metadata": {
  "kernelspec": {
   "display_name": "Python 3",
   "language": "python",
   "name": "python3"
  },
  "language_info": {
   "codemirror_mode": {
    "name": "ipython",
    "version": 3
   },
   "file_extension": ".py",
   "mimetype": "text/x-python",
   "name": "python",
   "nbconvert_exporter": "python",
   "pygments_lexer": "ipython3",
   "version": "3.8.3"
  }
 },
 "nbformat": 4,
 "nbformat_minor": 4
}
